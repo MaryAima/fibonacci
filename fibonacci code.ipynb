{
 "cells": [
  {
   "cell_type": "code",
   "execution_count": 1,
   "id": "bf854538",
   "metadata": {},
   "outputs": [
    {
     "name": "stdout",
     "output_type": "stream",
     "text": [
      "sequence is: \n",
      "[0, 1, 1, 2, 3]\n"
     ]
    }
   ],
   "source": [
    "def fib(number):\n",
    "    '''a series of numbers in which each number is the sum of the two preceding numbers.\n",
    "    \n",
    "       for example: given the number 5, the fibonacci sequence becomes 0,1,1,2,3.\n",
    "       \n",
    "       The first two number are always 0 and 1\n",
    "       \n",
    "       parameter: this function takes in one paramater, an integer greter than 0\n",
    "       \n",
    "       result: it then prints out the sequence of the number given, from 0 to its(number) nth term\n",
    "    '''\n",
    "    first = 0 #initializing the first number because its always 0\n",
    "    second = 1 #initializing the second number because its always 1\n",
    "    \n",
    "    count = 0 #setting count to zero and it will keep increasing ollowing the condition below\n",
    "    \n",
    "    #if the given number is 0, it tells user to give a number greater than 0\n",
    "    if number<=0:\n",
    "        print('number should be greater than zero')\n",
    "    #if the given number is 1, the result is automatically the first number, which is 0\n",
    "    if number==1:\n",
    "        print('sequence is: ',first)\n",
    "    #if given number greater than 1, do the following\n",
    "    if number>1:\n",
    "        #creating an empty list that will hold the sequence of the given number\n",
    "        sequence = [] \n",
    "        print('sequence is: ')\n",
    "        \n",
    "        while number>count:\n",
    "            #append the first number if the given number continues to be greater than count\n",
    "            sequence.append(first)\n",
    "            #creting the last term in the sequence of the given number\n",
    "            last = first+second\n",
    "            #updating the first and second term everytime the count increases\n",
    "            first = second\n",
    "            second = last\n",
    "            #increase count by 1\n",
    "            count+=1\n",
    "    #prints out the list in which we append the first term\n",
    "    print(sequence)\n",
    "    \n",
    "#Testing the function below\n",
    "fib(5)"
   ]
  },
  {
   "cell_type": "code",
   "execution_count": null,
   "id": "4743a492",
   "metadata": {},
   "outputs": [],
   "source": []
  }
 ],
 "metadata": {
  "kernelspec": {
   "display_name": "Python 3",
   "language": "python",
   "name": "python3"
  },
  "language_info": {
   "codemirror_mode": {
    "name": "ipython",
    "version": 3
   },
   "file_extension": ".py",
   "mimetype": "text/x-python",
   "name": "python",
   "nbconvert_exporter": "python",
   "pygments_lexer": "ipython3",
   "version": "3.8.8"
  }
 },
 "nbformat": 4,
 "nbformat_minor": 5
}
